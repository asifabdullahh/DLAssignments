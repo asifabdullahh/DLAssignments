{
 "cells": [
  {
   "cell_type": "markdown",
   "metadata": {
    "id": "BXgJ6uT1NydQ"
   },
   "source": [
    "Assignment: Flowers Recognition <br>\n",
    "Dataset Description:<br>\n",
    "\n",
    "This dataset contains 4242 images of flowers.<br>\n",
    "The data collection is based on the data flicr, google images, yandex images.<br>\n",
    "You can use this datastet to recognize plants from the photo.<br>\n",
    "\n",
    "Attribute Information:<br>\n",
    "The pictures are divided into five classes: chamomile, tulip, rose, sunflower, dandelion.<br>\n",
    "For each class there are about 800 photos. Photos are not high resolution, about 320x240 pixels. <br>\n",
    "<b>Also explore how to resize images in tensorflow and then resize all the images to a same size. </b> <br>\n",
    "This is a Multiclass Classification Problem.<br>\n",
    "\n",
    "\n"
   ]
  },
  {
   "cell_type": "markdown",
   "metadata": {
    "id": "T7vy-ktuOKJH"
   },
   "source": [
    "WORKFLOW : <br>\n",
    "Load Data <br>\n",
    "Split into 60 and 40 ratio.<br>\n",
    "Encode labels.<br>\n",
    "Create Model<br>\n",
    "Compilation Step (Note : Its a Multiclass Classification problem , select loss , metrics according to it)<br>\n",
    "Train the Model.<br>\n",
    "If the model gets overfit tune your model by changing the units , No. of layers , epochs , add dropout layer or add Regularizer according to the need .<br>\n",
    "Prediction should be > 85%<br>\n",
    "Evaluation Step<br>\n",
    "Prediction<br>\n",
    "\n",
    "\n"
   ]
  },
  {
   "cell_type": "markdown",
   "metadata": {
    "id": "ri3Bg5qfPRic"
   },
   "source": [
    "Data : <br>\n",
    "https://drive.google.com/file/d/1-OX6wn5gA-bJpjPNfSyaYQLz-A-AB_uj/view?usp=sharing"
   ]
  },
  {
   "cell_type": "markdown",
   "metadata": {},
   "source": [
    "Importing libraries"
   ]
  },
  {
   "cell_type": "code",
   "execution_count": 1,
   "metadata": {},
   "outputs": [],
   "source": [
    "import matplotlib.pyplot as plt\n",
    "import numpy as np\n",
    "import cv2\n",
    "import pandas as pd\n",
    "import pathlib\n",
    "from pathlib import Path"
   ]
  },
  {
   "cell_type": "code",
   "execution_count": 2,
   "metadata": {},
   "outputs": [
    {
     "name": "stdout",
     "output_type": "stream",
     "text": [
      "daisy\n",
      "dandelion\n",
      "rose\n",
      "sunflower\n",
      "tulip\n"
     ]
    }
   ],
   "source": [
    "directory = Path(\"./flowerdata/flowers/flowers\")\n",
    "\n",
    "image_names = []\n",
    "data_images = []\n",
    "labels = []\n",
    "for dir in directory.iterdir():\n",
    "  image_names.append(dir.name)\n",
    "  print(dir.name)\n",
    "  for imgpath in dir.iterdir():\n",
    "    if imgpath.name.endswith(\"jpg\"):\n",
    "      labels.append(dir.name)\n",
    "      imgarr = cv2.imread(str(imgpath), cv2.IMREAD_GRAYSCALE)\n",
    "      imgarr = cv2.resize(imgarr, (320,240))\n",
    "      data_images.append(imgarr)"
   ]
  },
  {
   "cell_type": "code",
   "execution_count": 3,
   "metadata": {},
   "outputs": [],
   "source": [
    "df=pd.DataFrame(labels)\n",
    "labels=df[0].map({\"rose\":0,\"sunflower\":1,\"tulip\":2,\"daisy\":3,\"dandelion\":4})"
   ]
  },
  {
   "cell_type": "code",
   "execution_count": 4,
   "metadata": {},
   "outputs": [],
   "source": [
    "import sklearn\n",
    "from sklearn.model_selection import train_test_split\n",
    "X_train,X_test,y_train,y_test=train_test_split(data_images,labels,test_size=.40,random_state=0)"
   ]
  },
  {
   "cell_type": "code",
   "execution_count": 5,
   "metadata": {},
   "outputs": [],
   "source": [
    "X_train=np.asarray(X_train).astype(\"float32\")\n",
    "X_test=np.asarray(X_test).astype(\"float32\")"
   ]
  },
  {
   "cell_type": "code",
   "execution_count": 6,
   "metadata": {},
   "outputs": [],
   "source": [
    "X_train=X_train.reshape(2593,320*240)\n",
    "X_test=X_test.reshape(1730,320*240)"
   ]
  },
  {
   "cell_type": "code",
   "execution_count": 7,
   "metadata": {},
   "outputs": [
    {
     "data": {
      "text/plain": [
       "array([145., 147., 148., ...,  15.,  15.,  15.], dtype=float32)"
      ]
     },
     "execution_count": 7,
     "metadata": {},
     "output_type": "execute_result"
    }
   ],
   "source": [
    "X_train[0]"
   ]
  },
  {
   "cell_type": "code",
   "execution_count": 8,
   "metadata": {},
   "outputs": [
    {
     "data": {
      "text/plain": [
       "array([52., 56., 69., ..., 38., 37., 36.], dtype=float32)"
      ]
     },
     "execution_count": 8,
     "metadata": {},
     "output_type": "execute_result"
    }
   ],
   "source": [
    "X_test[1]"
   ]
  },
  {
   "cell_type": "code",
   "execution_count": 9,
   "metadata": {},
   "outputs": [],
   "source": [
    "X_train=X_train/255.0\n",
    "X_test=X_test/255.0"
   ]
  },
  {
   "cell_type": "code",
   "execution_count": 19,
   "metadata": {},
   "outputs": [],
   "source": [
    "from tensorflow.keras.models import Sequential\n",
    "from tensorflow.keras.layers import Dense, Dropout\n",
    "from keras.optimizers import Adam, RMSprop\n",
    "from keras.utils import to_categorical"
   ]
  },
  {
   "cell_type": "code",
   "execution_count": 11,
   "metadata": {},
   "outputs": [],
   "source": [
    "y_train=to_categorical(y_train)\n",
    "y_test=to_categorical(y_test)"
   ]
  },
  {
   "cell_type": "code",
   "execution_count": 20,
   "metadata": {},
   "outputs": [],
   "source": [
    "network=Sequential()\n",
    "network.add(Dense(300,activation=\"relu\",input_shape=(X_train.shape[1],)))\n",
    "network.add(Dropout(0.2))\n",
    "network.add(Dense(150,activation=\"relu\"))\n",
    "network.add(Dense(64,activation=\"relu\"))\n",
    "network.add(Dropout(0.2))\n",
    "network.add(Dense(5,activation=\"softmax\"))"
   ]
  },
  {
   "cell_type": "code",
   "execution_count": 21,
   "metadata": {},
   "outputs": [],
   "source": [
    "network.compile(optimizer=RMSprop(0.0001), loss = 'categorical_crossentropy', metrics = ['accuracy'])"
   ]
  },
  {
   "cell_type": "code",
   "execution_count": 22,
   "metadata": {},
   "outputs": [
    {
     "name": "stdout",
     "output_type": "stream",
     "text": [
      "Epoch 1/100\n",
      "26/26 [==============================] - 14s 492ms/step - loss: 4.6758 - accuracy: 0.2036\n",
      "Epoch 2/100\n",
      "26/26 [==============================] - 13s 521ms/step - loss: 1.8403 - accuracy: 0.2247\n",
      "Epoch 3/100\n",
      "26/26 [==============================] - 12s 455ms/step - loss: 1.6310 - accuracy: 0.2429\n",
      "Epoch 4/100\n",
      "26/26 [==============================] - 10s 386ms/step - loss: 1.6510 - accuracy: 0.2287\n",
      "Epoch 5/100\n",
      "26/26 [==============================] - 12s 444ms/step - loss: 1.6014 - accuracy: 0.2270\n",
      "Epoch 6/100\n",
      "26/26 [==============================] - 14s 525ms/step - loss: 1.5985 - accuracy: 0.2610\n",
      "Epoch 7/100\n",
      "26/26 [==============================] - 13s 484ms/step - loss: 1.5516 - accuracy: 0.2778\n",
      "Epoch 8/100\n",
      "26/26 [==============================] - 12s 456ms/step - loss: 1.5481 - accuracy: 0.2948\n",
      "Epoch 9/100\n",
      "26/26 [==============================] - 11s 422ms/step - loss: 1.5486 - accuracy: 0.2736\n",
      "Epoch 10/100\n",
      "26/26 [==============================] - 11s 419ms/step - loss: 1.5421 - accuracy: 0.2848\n",
      "Epoch 11/100\n",
      "26/26 [==============================] - 12s 446ms/step - loss: 1.5164 - accuracy: 0.2945\n",
      "Epoch 12/100\n",
      "26/26 [==============================] - 13s 483ms/step - loss: 1.5092 - accuracy: 0.3162\n",
      "Epoch 13/100\n",
      "26/26 [==============================] - 12s 445ms/step - loss: 1.5414 - accuracy: 0.3069\n",
      "Epoch 14/100\n",
      "26/26 [==============================] - 13s 487ms/step - loss: 1.5168 - accuracy: 0.3145\n",
      "Epoch 15/100\n",
      "26/26 [==============================] - 12s 466ms/step - loss: 1.5072 - accuracy: 0.3142\n",
      "Epoch 16/100\n",
      "26/26 [==============================] - 12s 458ms/step - loss: 1.4835 - accuracy: 0.3229\n",
      "Epoch 17/100\n",
      "26/26 [==============================] - 11s 432ms/step - loss: 1.4982 - accuracy: 0.3177\n",
      "Epoch 18/100\n",
      "26/26 [==============================] - 12s 470ms/step - loss: 1.4913 - accuracy: 0.3221\n",
      "Epoch 19/100\n",
      "26/26 [==============================] - 12s 451ms/step - loss: 1.4881 - accuracy: 0.3479\n",
      "Epoch 20/100\n",
      "26/26 [==============================] - 12s 467ms/step - loss: 1.4798 - accuracy: 0.3284\n",
      "Epoch 21/100\n",
      "26/26 [==============================] - 15s 570ms/step - loss: 1.4675 - accuracy: 0.3544\n",
      "Epoch 22/100\n",
      "26/26 [==============================] - 12s 476ms/step - loss: 1.4767 - accuracy: 0.3305\n",
      "Epoch 23/100\n",
      "26/26 [==============================] - 12s 446ms/step - loss: 1.4632 - accuracy: 0.3422\n",
      "Epoch 24/100\n",
      "26/26 [==============================] - 11s 434ms/step - loss: 1.4725 - accuracy: 0.3300\n",
      "Epoch 25/100\n",
      "26/26 [==============================] - 12s 447ms/step - loss: 1.4738 - accuracy: 0.3522\n",
      "Epoch 26/100\n",
      "26/26 [==============================] - 12s 448ms/step - loss: 1.4658 - accuracy: 0.3491\n",
      "Epoch 27/100\n",
      "26/26 [==============================] - 12s 454ms/step - loss: 1.4680 - accuracy: 0.3409\n",
      "Epoch 28/100\n",
      "26/26 [==============================] - 12s 454ms/step - loss: 1.4432 - accuracy: 0.3594\n",
      "Epoch 29/100\n",
      "26/26 [==============================] - 12s 471ms/step - loss: 1.4228 - accuracy: 0.3687\n",
      "Epoch 30/100\n",
      "26/26 [==============================] - 14s 552ms/step - loss: 1.4202 - accuracy: 0.3545\n",
      "Epoch 31/100\n",
      "26/26 [==============================] - 12s 469ms/step - loss: 1.4069 - accuracy: 0.3708\n",
      "Epoch 32/100\n",
      "26/26 [==============================] - 12s 456ms/step - loss: 1.4199 - accuracy: 0.3771\n",
      "Epoch 33/100\n",
      "26/26 [==============================] - 12s 458ms/step - loss: 1.4350 - accuracy: 0.3599\n",
      "Epoch 34/100\n",
      "26/26 [==============================] - 13s 484ms/step - loss: 1.4069 - accuracy: 0.3838\n",
      "Epoch 35/100\n",
      "26/26 [==============================] - 12s 480ms/step - loss: 1.3814 - accuracy: 0.4071\n",
      "Epoch 36/100\n",
      "26/26 [==============================] - 13s 501ms/step - loss: 1.3610 - accuracy: 0.3965\n",
      "Epoch 37/100\n",
      "26/26 [==============================] - 13s 494ms/step - loss: 1.3537 - accuracy: 0.4162\n",
      "Epoch 38/100\n",
      "26/26 [==============================] - 12s 452ms/step - loss: 1.3856 - accuracy: 0.3986\n",
      "Epoch 39/100\n",
      "26/26 [==============================] - 12s 474ms/step - loss: 1.3513 - accuracy: 0.4082\n",
      "Epoch 40/100\n",
      "26/26 [==============================] - 13s 492ms/step - loss: 1.3573 - accuracy: 0.4050\n",
      "Epoch 41/100\n",
      "26/26 [==============================] - 15s 562ms/step - loss: 1.3472 - accuracy: 0.4236\n",
      "Epoch 42/100\n",
      "26/26 [==============================] - 13s 511ms/step - loss: 1.3211 - accuracy: 0.4379\n",
      "Epoch 43/100\n",
      "26/26 [==============================] - 12s 457ms/step - loss: 1.3122 - accuracy: 0.4403\n",
      "Epoch 44/100\n",
      "26/26 [==============================] - 12s 461ms/step - loss: 1.3384 - accuracy: 0.4338\n",
      "Epoch 45/100\n",
      "26/26 [==============================] - 12s 475ms/step - loss: 1.3154 - accuracy: 0.4603\n",
      "Epoch 46/100\n",
      "26/26 [==============================] - 12s 473ms/step - loss: 1.2916 - accuracy: 0.4667\n",
      "Epoch 47/100\n",
      "26/26 [==============================] - 12s 451ms/step - loss: 1.3188 - accuracy: 0.4296\n",
      "Epoch 48/100\n",
      "26/26 [==============================] - 11s 419ms/step - loss: 1.2921 - accuracy: 0.4554\n",
      "Epoch 49/100\n",
      "26/26 [==============================] - 11s 422ms/step - loss: 1.2832 - accuracy: 0.4603\n",
      "Epoch 50/100\n",
      "26/26 [==============================] - 11s 430ms/step - loss: 1.2782 - accuracy: 0.4596\n",
      "Epoch 51/100\n",
      "26/26 [==============================] - 11s 433ms/step - loss: 1.2821 - accuracy: 0.4469\n",
      "Epoch 52/100\n",
      "26/26 [==============================] - 11s 441ms/step - loss: 1.2559 - accuracy: 0.4586\n",
      "Epoch 53/100\n",
      "26/26 [==============================] - 12s 453ms/step - loss: 1.2497 - accuracy: 0.4771\n",
      "Epoch 54/100\n",
      "26/26 [==============================] - 13s 518ms/step - loss: 1.2373 - accuracy: 0.4694\n",
      "Epoch 55/100\n",
      "26/26 [==============================] - 13s 481ms/step - loss: 1.2399 - accuracy: 0.4808\n",
      "Epoch 56/100\n",
      "26/26 [==============================] - 11s 443ms/step - loss: 1.2393 - accuracy: 0.4696\n",
      "Epoch 57/100\n",
      "26/26 [==============================] - 11s 424ms/step - loss: 1.2614 - accuracy: 0.4634\n",
      "Epoch 58/100\n",
      "26/26 [==============================] - 11s 435ms/step - loss: 1.2133 - accuracy: 0.4912\n",
      "Epoch 59/100\n",
      "26/26 [==============================] - 13s 510ms/step - loss: 1.2252 - accuracy: 0.4744\n",
      "Epoch 60/100\n",
      "26/26 [==============================] - 13s 500ms/step - loss: 1.2283 - accuracy: 0.4869\n",
      "Epoch 61/100\n",
      "26/26 [==============================] - 13s 480ms/step - loss: 1.1977 - accuracy: 0.4998\n",
      "Epoch 62/100\n",
      "26/26 [==============================] - 12s 466ms/step - loss: 1.2068 - accuracy: 0.4911\n",
      "Epoch 63/100\n",
      "26/26 [==============================] - 11s 434ms/step - loss: 1.2004 - accuracy: 0.5009\n",
      "Epoch 64/100\n",
      "26/26 [==============================] - 11s 423ms/step - loss: 1.1803 - accuracy: 0.5034\n",
      "Epoch 65/100\n",
      "26/26 [==============================] - 12s 446ms/step - loss: 1.2000 - accuracy: 0.5079\n",
      "Epoch 66/100\n",
      "26/26 [==============================] - 11s 442ms/step - loss: 1.2029 - accuracy: 0.5183\n",
      "Epoch 67/100\n",
      "26/26 [==============================] - 12s 446ms/step - loss: 1.1453 - accuracy: 0.5170\n",
      "Epoch 68/100\n",
      "26/26 [==============================] - 12s 455ms/step - loss: 1.1357 - accuracy: 0.5397\n",
      "Epoch 69/100\n",
      "26/26 [==============================] - 11s 440ms/step - loss: 1.1791 - accuracy: 0.5192\n",
      "Epoch 70/100\n",
      "26/26 [==============================] - 12s 457ms/step - loss: 1.1508 - accuracy: 0.5241\n",
      "Epoch 71/100\n",
      "26/26 [==============================] - 11s 438ms/step - loss: 1.1710 - accuracy: 0.5112\n",
      "Epoch 72/100\n",
      "26/26 [==============================] - 12s 442ms/step - loss: 1.2082 - accuracy: 0.5045\n",
      "Epoch 73/100\n",
      "26/26 [==============================] - 12s 443ms/step - loss: 1.1339 - accuracy: 0.5496\n",
      "Epoch 74/100\n",
      "26/26 [==============================] - 11s 434ms/step - loss: 1.1446 - accuracy: 0.5172\n",
      "Epoch 75/100\n",
      "26/26 [==============================] - 11s 437ms/step - loss: 1.1247 - accuracy: 0.5316\n",
      "Epoch 76/100\n",
      "26/26 [==============================] - 11s 428ms/step - loss: 1.1230 - accuracy: 0.5409\n",
      "Epoch 77/100\n",
      "26/26 [==============================] - 11s 442ms/step - loss: 1.1241 - accuracy: 0.5410\n",
      "Epoch 78/100\n",
      "26/26 [==============================] - 12s 456ms/step - loss: 1.1334 - accuracy: 0.5174\n",
      "Epoch 79/100\n",
      "26/26 [==============================] - 12s 460ms/step - loss: 1.0518 - accuracy: 0.5758\n",
      "Epoch 80/100\n"
     ]
    },
    {
     "name": "stdout",
     "output_type": "stream",
     "text": [
      "26/26 [==============================] - 11s 441ms/step - loss: 1.1142 - accuracy: 0.5394\n",
      "Epoch 81/100\n",
      "26/26 [==============================] - 12s 437ms/step - loss: 1.1189 - accuracy: 0.5447\n",
      "Epoch 82/100\n",
      "26/26 [==============================] - 11s 431ms/step - loss: 1.0981 - accuracy: 0.5659\n",
      "Epoch 83/100\n",
      "26/26 [==============================] - 11s 418ms/step - loss: 1.0326 - accuracy: 0.5777\n",
      "Epoch 84/100\n",
      "26/26 [==============================] - 11s 426ms/step - loss: 1.0583 - accuracy: 0.5652\n",
      "Epoch 85/100\n",
      "26/26 [==============================] - 13s 506ms/step - loss: 1.0793 - accuracy: 0.5625\n",
      "Epoch 86/100\n",
      "26/26 [==============================] - 13s 505ms/step - loss: 1.0942 - accuracy: 0.5498\n",
      "Epoch 87/100\n",
      "26/26 [==============================] - 12s 456ms/step - loss: 1.0595 - accuracy: 0.5729\n",
      "Epoch 88/100\n",
      "26/26 [==============================] - 12s 446ms/step - loss: 1.0577 - accuracy: 0.5850\n",
      "Epoch 89/100\n",
      "26/26 [==============================] - 12s 452ms/step - loss: 1.0529 - accuracy: 0.5814\n",
      "Epoch 90/100\n",
      "26/26 [==============================] - 13s 488ms/step - loss: 1.0101 - accuracy: 0.5851\n",
      "Epoch 91/100\n",
      "26/26 [==============================] - 14s 546ms/step - loss: 0.9919 - accuracy: 0.5931\n",
      "Epoch 92/100\n",
      "26/26 [==============================] - 13s 520ms/step - loss: 1.0371 - accuracy: 0.5852\n",
      "Epoch 93/100\n",
      "26/26 [==============================] - 13s 516ms/step - loss: 0.9562 - accuracy: 0.6190\n",
      "Epoch 94/100\n",
      "26/26 [==============================] - 14s 533ms/step - loss: 1.0318 - accuracy: 0.5726\n",
      "Epoch 95/100\n",
      "26/26 [==============================] - 14s 517ms/step - loss: 0.9695 - accuracy: 0.6213\n",
      "Epoch 96/100\n",
      "26/26 [==============================] - 12s 466ms/step - loss: 1.0439 - accuracy: 0.5668\n",
      "Epoch 97/100\n",
      "26/26 [==============================] - 12s 467ms/step - loss: 1.0074 - accuracy: 0.6014\n",
      "Epoch 98/100\n",
      "26/26 [==============================] - 12s 443ms/step - loss: 0.9974 - accuracy: 0.5902\n",
      "Epoch 99/100\n",
      "26/26 [==============================] - 12s 446ms/step - loss: 0.9181 - accuracy: 0.6308\n",
      "Epoch 100/100\n",
      "26/26 [==============================] - 13s 515ms/step - loss: 0.9574 - accuracy: 0.5980\n"
     ]
    }
   ],
   "source": [
    "history=network.fit(X_train, y_train,batch_size=100,epochs=100)"
   ]
  },
  {
   "cell_type": "code",
   "execution_count": 23,
   "metadata": {},
   "outputs": [
    {
     "name": "stdout",
     "output_type": "stream",
     "text": [
      "55/55 [==============================] - 4s 57ms/step - loss: 2.0804 - accuracy: 0.2867\n"
     ]
    },
    {
     "data": {
      "text/plain": [
       "[2.080383062362671, 0.2867051959037781]"
      ]
     },
     "execution_count": 23,
     "metadata": {},
     "output_type": "execute_result"
    }
   ],
   "source": [
    "network.evaluate(X_test,y_test)"
   ]
  },
  {
   "cell_type": "code",
   "execution_count": null,
   "metadata": {},
   "outputs": [],
   "source": []
  }
 ],
 "metadata": {
  "colab": {
   "name": "Flowers Recognition.ipynb",
   "provenance": []
  },
  "kernelspec": {
   "display_name": "Python 3",
   "language": "python",
   "name": "python3"
  },
  "language_info": {
   "codemirror_mode": {
    "name": "ipython",
    "version": 3
   },
   "file_extension": ".py",
   "mimetype": "text/x-python",
   "name": "python",
   "nbconvert_exporter": "python",
   "pygments_lexer": "ipython3",
   "version": "3.8.3"
  }
 },
 "nbformat": 4,
 "nbformat_minor": 1
}
